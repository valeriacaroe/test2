{
  "nbformat": 4,
  "nbformat_minor": 0,
  "metadata": {
    "colab": {
      "provenance": []
    },
    "kernelspec": {
      "name": "python3",
      "display_name": "Python 3"
    },
    "language_info": {
      "name": "python"
    }
  },
  "cells": [
    {
      "cell_type": "markdown",
      "source": [
        "<br>\n",
        "\n",
        "![Imgur](https://i.imgur.com/zRrFdsf.png)\n",
        "\n",
        "\n",
        "_____"
      ],
      "metadata": {
        "id": "BPvc8n_FRqAg"
      }
    },
    {
      "cell_type": "code",
      "source": [
        "!python -V"
      ],
      "metadata": {
        "id": "ZtOm-3jj-WiN"
      },
      "execution_count": null,
      "outputs": []
    },
    {
      "cell_type": "markdown",
      "source": [
        "Applying functions"
      ],
      "metadata": {
        "id": "z-_XrKzdfvr-"
      }
    },
    {
      "cell_type": "code",
      "source": [
        "import re\n",
        "commaToNum=lambda xString:float(re.sub(\",\",\"\",xString))"
      ],
      "metadata": {
        "id": "iXfwf0AIT8V_"
      },
      "execution_count": null,
      "outputs": []
    },
    {
      "cell_type": "code",
      "source": [
        "commaToNum(\"5,500\")"
      ],
      "metadata": {
        "id": "MkhPlgBxeOMC"
      },
      "execution_count": null,
      "outputs": []
    },
    {
      "cell_type": "code",
      "source": [
        "someValues=['1','2','3','5,500']\n",
        "commaToNum(someValues)"
      ],
      "metadata": {
        "id": "YcAR0YeOWMij"
      },
      "execution_count": null,
      "outputs": []
    },
    {
      "cell_type": "code",
      "source": [
        "[commaToNum(x) for x in someValues]"
      ],
      "metadata": {
        "id": "qVsp1ORBWdKc"
      },
      "execution_count": null,
      "outputs": []
    },
    {
      "cell_type": "code",
      "source": [
        "list(map(commaToNum,someValues))"
      ],
      "metadata": {
        "id": "RT_fnj46YlMm"
      },
      "execution_count": null,
      "outputs": []
    },
    {
      "cell_type": "markdown",
      "source": [
        "Applying to Data Frames"
      ],
      "metadata": {
        "id": "Bf56xoBcrk5R"
      }
    },
    {
      "cell_type": "code",
      "source": [
        "import pandas as pd\n",
        "\n",
        "linkGH=\"https://github.com/CienciaDeDatosEspacial/code_and_data/raw/main/data/dataFrame_example.csv\"\n",
        "testDataP=pd.read_csv(linkGH)\n",
        "testDataP"
      ],
      "metadata": {
        "id": "VPO4_kcVTehj"
      },
      "execution_count": null,
      "outputs": []
    },
    {
      "cell_type": "code",
      "source": [
        "testDataP.info()"
      ],
      "metadata": {
        "id": "iAI-qYDmrX6N"
      },
      "execution_count": null,
      "outputs": []
    },
    {
      "cell_type": "code",
      "source": [
        "commaToDotP=lambda xString:float(re.sub(\",\",\".\",xString))"
      ],
      "metadata": {
        "id": "tM86LC-BrV-J"
      },
      "execution_count": null,
      "outputs": []
    },
    {
      "cell_type": "code",
      "source": [
        "commaToDotP(testDataP.measure1)"
      ],
      "metadata": {
        "id": "ikV6AWzf9JQm"
      },
      "execution_count": null,
      "outputs": []
    },
    {
      "cell_type": "code",
      "source": [
        "testDataP.measure1.apply(commaToDotP)"
      ],
      "metadata": {
        "id": "xZxL0ufX83Nk"
      },
      "execution_count": null,
      "outputs": []
    },
    {
      "cell_type": "code",
      "source": [
        "testDataP.info()"
      ],
      "metadata": {
        "id": "QIrM1Vl2TAXg"
      },
      "execution_count": null,
      "outputs": []
    },
    {
      "cell_type": "code",
      "source": [
        "testDataP.loc[:,['measure1','measure2']].apply(commaToDotP)"
      ],
      "metadata": {
        "id": "w6hxknCI-rYz"
      },
      "execution_count": null,
      "outputs": []
    },
    {
      "cell_type": "code",
      "source": [
        "testDataP.loc[:,['measure1','measure2']].applymap(commaToDotP) #new is \"map\""
      ],
      "metadata": {
        "id": "wPrmZ-lG-bqe"
      },
      "execution_count": null,
      "outputs": []
    },
    {
      "cell_type": "code",
      "source": [
        "commaToDotP(testDataP.iloc[1,2])"
      ],
      "metadata": {
        "id": "6fLwpEYFJ8m7"
      },
      "execution_count": null,
      "outputs": []
    },
    {
      "cell_type": "code",
      "source": [
        "testDataP.info()"
      ],
      "metadata": {
        "id": "mTKFrtTvIDBV"
      },
      "execution_count": null,
      "outputs": []
    },
    {
      "cell_type": "code",
      "source": [
        "#testDataP[['measure1','measure2']]=testDataP.loc[:,['measure1','measure2']].map(commaToDotP)\n",
        "testDataP[['measure1','measure2']]=testDataP.iloc[:,[1,2]].map(commaToDotP)"
      ],
      "metadata": {
        "id": "61PajLCAIH4l"
      },
      "execution_count": null,
      "outputs": []
    },
    {
      "cell_type": "code",
      "source": [
        "testDataP.info()"
      ],
      "metadata": {
        "id": "-z8w_n_3IDlB"
      },
      "execution_count": null,
      "outputs": []
    },
    {
      "cell_type": "code",
      "source": [
        "!pip show pandas"
      ],
      "metadata": {
        "id": "9DcArZa8K6mg"
      },
      "execution_count": null,
      "outputs": []
    },
    {
      "cell_type": "code",
      "source": [],
      "metadata": {
        "id": "FIs3QybnMC98"
      },
      "execution_count": null,
      "outputs": []
    }
  ]
}